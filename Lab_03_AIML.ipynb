{
  "nbformat": 4,
  "nbformat_minor": 0,
  "metadata": {
    "colab": {
      "provenance": [],
      "authorship_tag": "ABX9TyOls5EhUU9U0GkoNqkl5tEn",
      "include_colab_link": true
    },
    "kernelspec": {
      "name": "python3",
      "display_name": "Python 3"
    },
    "language_info": {
      "name": "python"
    }
  },
  "cells": [
    {
      "cell_type": "markdown",
      "metadata": {
        "id": "view-in-github",
        "colab_type": "text"
      },
      "source": [
        "<a href=\"https://colab.research.google.com/github/2303A51090/AIML-2025/blob/main/Lab_03_AIML.ipynb\" target=\"_parent\"><img src=\"https://colab.research.google.com/assets/colab-badge.svg\" alt=\"Open In Colab\"/></a>"
      ]
    },
    {
      "cell_type": "markdown",
      "source": [
        "# part-1 Implement the AI Game **Strategy**"
      ],
      "metadata": {
        "id": "pik9Fz-3XjqM"
      }
    },
    {
      "cell_type": "markdown",
      "source": [
        "##Python Libraries required for Game Strategy"
      ],
      "metadata": {
        "id": "Kk7WxrmXYIfU"
      }
    },
    {
      "cell_type": "code",
      "source": [
        "from collections import namedtuple, Counter, defaultdict\n",
        "import random\n",
        "import math\n",
        "import functools\n",
        "\n",
        "# Define the cache using functools.lru_cache\n",
        "cache = functools.lru_cache(10**6)\n"
      ],
      "metadata": {
        "id": "onlOQurdYXYI"
      },
      "execution_count": 13,
      "outputs": []
    },
    {
      "cell_type": "markdown",
      "source": [
        "##Game class"
      ],
      "metadata": {
        "id": "FFFjET7wYpwm"
      }
    },
    {
      "cell_type": "code",
      "source": [
        "class Game:\n",
        "    def actions(self, state):\n",
        "        \"\"\"Return a collection of the allowable moves from this state.\"\"\"\n",
        "        raise NotImplementedError\n",
        "\n",
        "    def result(self, state, move):\n",
        "        \"\"\"Return the state that results from making a move from a state.\"\"\"\n",
        "        raise NotImplementedError\n",
        "\n",
        "    def is_terminal(self, state):\n",
        "        \"\"\"Return True if this is a final state for the game.\"\"\"\n",
        "        return not self.actions(state)\n",
        "\n",
        "    def utility(self, state, player):\n",
        "        \"\"\"Return the value of this final state to player.\"\"\"\n",
        "        raise NotImplementedError"
      ],
      "metadata": {
        "id": "crwd3QZwYr_x"
      },
      "execution_count": 3,
      "outputs": []
    },
    {
      "cell_type": "markdown",
      "source": [
        "##Implement a Player Game using the Game Class Constructor."
      ],
      "metadata": {
        "id": "94aEAwogZ4Y5"
      }
    },
    {
      "cell_type": "code",
      "source": [
        "def play_game(game, strategies: dict, verbose=False):\n",
        "    \"\"\"\n",
        "    Play a turn-taking game. `strategies` is a dictionary where the keys are player names,\n",
        "    and the values are functions that take the current state and the game as arguments,\n",
        "    returning the player's move.\n",
        "    \"\"\"\n",
        "    state = game.initial\n",
        "    while not game.is_terminal(state):\n",
        "        player = state.to_move\n",
        "        move = strategies[player](state, game)\n",
        "        state = game.result(state, move)\n",
        "        if verbose:\n",
        "            print('Player', player, 'move:', move)\n",
        "            print(state)\n",
        "    return state\n"
      ],
      "metadata": {
        "id": "9V4PfCVTZ71O"
      },
      "execution_count": 6,
      "outputs": []
    },
    {
      "cell_type": "markdown",
      "source": [
        "#Part 2  Implement the Game Strategy Algorithms."
      ],
      "metadata": {
        "id": "lmxGwxANbZsz"
      }
    },
    {
      "cell_type": "markdown",
      "source": [
        "##Implement the MiniMax Search Algorithm"
      ],
      "metadata": {
        "id": "HyS0wFawbudX"
      }
    },
    {
      "cell_type": "code",
      "source": [
        "import math\n",
        "\n",
        "def minimax_search(game, state):\n",
        "    \"\"\"Search game tree to determine the best move; return (value, move) pair.\"\"\"\n",
        "    player = state.to_move\n",
        "    infinity = math.inf  # Define infinity for comparisons\n",
        "\n",
        "    def max_value(state):\n",
        "        if game.is_terminal(state):\n",
        "            return game.utility(state, player), None\n",
        "        v, move = -infinity, None\n",
        "        for a in game.actions(state):\n",
        "            v2, _ = min_value(game.result(state, a))\n",
        "            if v2 > v:\n",
        "                v, move = v2, a\n",
        "        return v, move\n",
        "\n",
        "    def min_value(state):\n",
        "        if game.is_terminal(state):\n",
        "            return game.utility(state, player), None\n",
        "        v, move = infinity, None\n",
        "        for a in game.actions(state):\n",
        "            v2, _ = max_value(game.result(state, a))\n",
        "            if v2 < v:\n",
        "                v, move = v2, a\n",
        "        return v, move\n",
        "\n",
        "    return max_value(state)\n"
      ],
      "metadata": {
        "id": "Ljt5uITBbv_I"
      },
      "execution_count": 7,
      "outputs": []
    },
    {
      "cell_type": "markdown",
      "source": [
        "##Implement the Alpha-Beta Search Algorithm"
      ],
      "metadata": {
        "id": "6sYVt3lhb84e"
      }
    },
    {
      "cell_type": "code",
      "source": [
        "import math\n",
        "\n",
        "def alphabeta_search(game, state):\n",
        "    \"\"\"Search game tree to determine the best action using alpha-beta pruning.\n",
        "    Search all the way to the leaves.\n",
        "    \"\"\"\n",
        "    player = state.to_move\n",
        "    infinity = math.inf  # Define infinity for comparisons\n",
        "\n",
        "    def max_value(state, alpha, beta):\n",
        "        if game.is_terminal(state):\n",
        "            return game.utility(state, player), None\n",
        "        v, move = -infinity, None\n",
        "        for a in game.actions(state):\n",
        "            v2, _ = min_value(game.result(state, a), alpha, beta)\n",
        "            if v2 > v:\n",
        "                v, move = v2, a\n",
        "            alpha = max(alpha, v)\n",
        "            if v >= beta:\n",
        "                return v, movec\n",
        "        return v, move\n",
        "\n",
        "    def min_value(state, alpha, beta):\n",
        "        if game.is_terminal(state):\n",
        "            return game.utility(state, player), None\n",
        "        v, move = infinity, None\n",
        "        for a in game.actions(state):\n",
        "            v2, _ = max_value(game.result(state, a), alpha, beta)\n",
        "            if v2 < v:\n",
        "                v, move = v2, a\n",
        "            beta = min(beta, v)\n",
        "            if v <= alpha:\n",
        "                return v, move\n",
        "        return v, move\n",
        "\n",
        "    return max_value(state, -infinity, infinity)\n"
      ],
      "metadata": {
        "id": "v69LGwGtb-sl"
      },
      "execution_count": 8,
      "outputs": []
    },
    {
      "cell_type": "markdown",
      "source": [
        "#Part 3  Implement the Game Strategy using TicTocToe."
      ],
      "metadata": {
        "id": "R3JXfo7hcMeP"
      }
    },
    {
      "cell_type": "markdown",
      "source": [
        "##Implement TicToCToe game using init , actions, result, is terminal, utility,\n",
        "##display constructors"
      ],
      "metadata": {
        "id": "rxh9wRNmcRwK"
      }
    },
    {
      "cell_type": "code",
      "source": [
        "class TicTacToe(Game):\n",
        "    \"\"\"Play TicTacToe on a `height` by `width` board, needing `k` in a row to win.\n",
        "    'X' plays first against 'O'.\n",
        "    \"\"\"\n",
        "\n",
        "    def __init__(self, height=3, width=3, k=3):\n",
        "        self.k = k  # k in a row needed to win\n",
        "        self.squares = {(x, y) for x in range(width) for y in range(height)}\n",
        "        self.initial = Board(height=height, width=width, to_move='X', utility=0)\n",
        "\n",
        "    def actions(self, board):\n",
        "        \"\"\"Legal moves are any square not yet taken.\"\"\"\n",
        "        return self.squares - set(board)\n",
        "\n",
        "    def result(self, board, square):\n",
        "        \"\"\"Place a marker for the current player on square.\"\"\"\n",
        "        player = board.to_move\n",
        "        new_board = board.new({square: player}, to_move=('O' if player == 'X' else 'X'))\n",
        "        win = self.k_in_row(new_board, player, square, self.k)\n",
        "        new_board.utility = (0 if not win else +1 if player == 'X' else -1)\n",
        "        return new_board\n",
        "\n",
        "    def utility(self, board, player):\n",
        "        \"\"\"Return the value to player; 1 for win, -1 for loss, 0 otherwise.\"\"\"\n",
        "        return board.utility if player == 'X' else -board.utility\n",
        "\n",
        "    def is_terminal(self, board):\n",
        "        \"\"\"A board is a terminal state if it is won or there are no empty squares.\"\"\"\n",
        "        return board.utility != 0 or len(self.squares) == len(board)\n",
        "\n",
        "    def display(self, board):\n",
        "        \"\"\"Display the board.\"\"\"\n",
        "        print(board)\n",
        "\n",
        "    def k_in_row(self, board, player, square, k):\n",
        "        \"\"\"True if player has k pieces in a line through square.\"\"\"\n",
        "        def in_row(x, y, dx, dy):\n",
        "            return 0 if board.get((x, y)) != player else 1 + in_row(x + dx, y + dy, dx, dy)\n",
        "\n",
        "        return any(\n",
        "            in_row(*square, dx, dy) + in_row(*square, -dx, -dy) - 1 >= k\n",
        "            for (dx, dy) in ((0, 1), (1, 0), (1, 1), (1, -1))\n",
        "        )\n"
      ],
      "metadata": {
        "id": "pgTloiy0cXfq"
      },
      "execution_count": 9,
      "outputs": []
    },
    {
      "cell_type": "markdown",
      "source": [
        "##Implement a Game Board using defaultdict using init , new, missing , hash ,\n",
        "##repr"
      ],
      "metadata": {
        "id": "dMJINbQTco9K"
      }
    },
    {
      "cell_type": "code",
      "source": [
        "from collections import defaultdict\n",
        "\n",
        "class Board(defaultdict):\n",
        "    \"\"\"A board has the player to move, a cached utility value,\n",
        "    and a dict of {(x, y): player} entries, where player is 'X' or 'O'.\n",
        "    \"\"\"\n",
        "\n",
        "    empty = '.'\n",
        "    off = '#'\n",
        "\n",
        "    def __init__(self, width=8, height=8, to_move=None, **kwds):\n",
        "        super().__init__(self.missing)  # Use the missing method for default values\n",
        "        self.update(width=width, height=height, to_move=to_move, **kwds)\n",
        "\n",
        "    def new(self, changes: dict, **kwds) -> 'Board':\n",
        "        \"\"\"Given a dict of {(x, y): contents} changes, return a new Board with the changes.\"\"\"\n",
        "        board = Board(width=self['width'], height=self['height'], **kwds)\n",
        "        board.update(self)\n",
        "        board.update(changes)\n",
        "        return board\n",
        "\n",
        "    def missing(self, loc):\n",
        "        \"\"\"Return the default value for locations not in the board.\"\"\"\n",
        "        x, y = loc\n",
        "        if 0 <= x < self['width'] and 0 <= y < self['height']:\n",
        "            return self.empty\n",
        "        else:\n",
        "            return self.off\n",
        "\n",
        "    def __hash__(self):\n",
        "        \"\"\"Compute a hash value for the board.\"\"\"\n",
        "        return hash(tuple(sorted(self.items()))) + hash(self['to_move'])\n",
        "\n",
        "    def __repr__(self):\n",
        "        \"\"\"Return a string representation of the board.\"\"\"\n",
        "        def row(y): return ' '.join(self[(x, y)] for x in range(self['width']))\n",
        "        return '\\n\\n'.join(map(row, range(self['height']))) + '\\n\\n'\n"
      ],
      "metadata": {
        "id": "9QldyxHAcrw7"
      },
      "execution_count": 10,
      "outputs": []
    },
    {
      "cell_type": "markdown",
      "source": [
        "##Implement random player(game,state) and player(search algorithm)"
      ],
      "metadata": {
        "id": "y1t4TOQ-dHUY"
      }
    },
    {
      "cell_type": "code",
      "source": [
        "import random\n",
        "\n",
        "def random_player(game, state):\n",
        "    \"\"\"A game player that selects a random action from the available legal moves.\"\"\"\n",
        "    return random.choice(list(game.actions(state)))\n",
        "\n",
        "def player(search_algorithm):\n",
        "    \"\"\"A game player who uses the specified search algorithm to choose a move.\"\"\"\n",
        "    return lambda game, state: search_algorithm(game, state)[1]\n"
      ],
      "metadata": {
        "id": "uayvdmWXdJd_"
      },
      "execution_count": 14,
      "outputs": []
    },
    {
      "cell_type": "markdown",
      "source": [
        "## Part-4 Evaluate the AI Game Strategy using TicTocToe."
      ],
      "metadata": {
        "id": "m7DxZiGtoHQQ"
      }
    }
  ]
}